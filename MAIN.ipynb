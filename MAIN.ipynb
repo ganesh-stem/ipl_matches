{
  "nbformat": 4,
  "nbformat_minor": 0,
  "metadata": {
    "colab": {
      "name": "GANESH_SHARMA.ipynb",
      "provenance": [],
      "collapsed_sections": []
    },
    "kernelspec": {
      "name": "python3",
      "display_name": "Python 3"
    },
    "language_info": {
      "name": "python"
    }
  },
  "cells": [
    {
      "cell_type": "markdown",
      "source": [
        "# **# 1. ENVIRONMENT SET-UP**\n",
        "\n",
        "\n"
      ],
      "metadata": {
        "id": "6lqEAB45mnAs"
      }
    },
    {
      "cell_type": "code",
      "execution_count": 1,
      "metadata": {
        "id": "wkCwbKFv8SzY"
      },
      "outputs": [],
      "source": [
        "!apt-get install openjdk-8-jdk-headless -qq > /dev/null"
      ]
    },
    {
      "cell_type": "code",
      "source": [
        "!wget -q https://archive.apache.org/dist/spark/spark-3.2.1/spark-3.2.1-bin-hadoop2.7.tgz"
      ],
      "metadata": {
        "id": "AQcZWSzHkhem"
      },
      "execution_count": 2,
      "outputs": []
    },
    {
      "cell_type": "code",
      "source": [
        "!tar xf spark-3.2.1-bin-hadoop2.7.tgz"
      ],
      "metadata": {
        "id": "lwMqg6QE90xx"
      },
      "execution_count": 3,
      "outputs": []
    },
    {
      "cell_type": "code",
      "source": [
        "import os\n",
        "os.environ[\"JAVA_HOME\"] = \"/usr/lib/jvm/java-8-openjdk-amd64\"\n",
        "os.environ[\"SPARK_HOME\"] = \"/content/spark-3.2.1-bin-hadoop2.7\""
      ],
      "metadata": {
        "id": "d8c44Wyh908z"
      },
      "execution_count": 4,
      "outputs": []
    },
    {
      "cell_type": "code",
      "source": [
        "# install the sqlite jdbc\n",
        "!wget -q https://repo1.maven.org/maven2/org/xerial/sqlite-jdbc/3.36.0.3/sqlite-jdbc-3.36.0.3.jar -P /content/spark-3.2.1-bin-hadoop2.7/jars"
      ],
      "metadata": {
        "id": "UUFXwsFpH57d"
      },
      "execution_count": 5,
      "outputs": []
    },
    {
      "cell_type": "markdown",
      "source": [
        "# **# 2. IMPORTING THE ESSENTIAL LIBRARIES**"
      ],
      "metadata": {
        "id": "R08v-XTLdsoG"
      }
    },
    {
      "cell_type": "code",
      "source": [
        "!pip install -q findspark\n",
        "import findspark\n",
        "findspark.init()"
      ],
      "metadata": {
        "id": "B44RQUfK-BQe"
      },
      "execution_count": 6,
      "outputs": []
    },
    {
      "cell_type": "code",
      "source": [
        "from pyspark import SparkConf, SparkContext\n",
        "from pyspark.sql.functions import lit, array_remove\n",
        "\n",
        "import sqlite3\n",
        "import pandas as pd\n",
        "import psutil \n",
        "import matplotlib.pyplot as plt"
      ],
      "metadata": {
        "id": "TK0Cwb9q_ZAR"
      },
      "execution_count": 7,
      "outputs": []
    },
    {
      "cell_type": "code",
      "source": [
        "# connecting to the SQLITE JDBC DRIVER\n",
        "from pyspark.sql import SparkSession\n",
        "spark = (SparkSession\n",
        " .builder\n",
        " .appName(\"IPL_MATCHES\")\n",
        " .config(\"/content/spark-3.2.1-bin-hadoop2.7/jars\", \"sqlite-jdbc-3.36.0.3.jar\")\n",
        " .getOrCreate())"
      ],
      "metadata": {
        "id": "PIzyKY2TOpvs"
      },
      "execution_count": 8,
      "outputs": []
    },
    {
      "cell_type": "code",
      "source": [
        "# importing the datasets\n",
        "ipl_matches_pd = pd.read_csv(\"/content/ipl_matches.csv\")\n",
        "ipl_venue_pd = pd.read_csv(\"/content/ipl_venue.csv\")\n",
        "ipl_ball_by_ball_pd = pd.read_csv(\"/content/ipl_ball_by_ball.csv\")"
      ],
      "metadata": {
        "id": "dDd1gtby8Wyu"
      },
      "execution_count": 9,
      "outputs": []
    },
    {
      "cell_type": "markdown",
      "source": [
        "# **# 3. DATA ANALYSIS**"
      ],
      "metadata": {
        "id": "RkUXc5TIvlDQ"
      }
    },
    {
      "cell_type": "code",
      "source": [
        "# We cannot eliminate the 'NA' values from the dataset because\n",
        "# the NA values have meanings. For examples, matches are tie and\n",
        "# therefore there is no result.\n",
        "ipl_matches_pd.isnull().sum()"
      ],
      "metadata": {
        "colab": {
          "base_uri": "https://localhost:8080/"
        },
        "id": "etydD2gUVuG9",
        "outputId": "1ef4d675-4d07-4bd8-cef7-27f7800881c7"
      },
      "execution_count": 10,
      "outputs": [
        {
          "output_type": "execute_result",
          "data": {
            "text/plain": [
              "match_id             0\n",
              "date                 0\n",
              "player_of_match      4\n",
              "venue_id             0\n",
              "neutral_venue        0\n",
              "team1                0\n",
              "team2                0\n",
              "toss_winner          0\n",
              "toss_decision        0\n",
              "winner               4\n",
              "result               4\n",
              "result_margin       17\n",
              "eliminator           4\n",
              "method             797\n",
              "umpire1              0\n",
              "umpire2              0\n",
              "dtype: int64"
            ]
          },
          "metadata": {},
          "execution_count": 10
        }
      ]
    },
    {
      "cell_type": "code",
      "source": [
        "ipl_venue_pd.isnull().sum()"
      ],
      "metadata": {
        "colab": {
          "base_uri": "https://localhost:8080/"
        },
        "id": "a1GV5mzIV6YU",
        "outputId": "afbb913a-a222-4a28-e5c4-e4a9c0afeda7"
      },
      "execution_count": 11,
      "outputs": [
        {
          "output_type": "execute_result",
          "data": {
            "text/plain": [
              "venue_id    0\n",
              "venue       0\n",
              "city        0\n",
              "dtype: int64"
            ]
          },
          "metadata": {},
          "execution_count": 11
        }
      ]
    },
    {
      "cell_type": "code",
      "source": [
        "# Again the NA values should not be eliminated because the values\n",
        "# have meanings in this dataset.\n",
        "ipl_ball_by_ball_pd.isnull().sum()"
      ],
      "metadata": {
        "colab": {
          "base_uri": "https://localhost:8080/"
        },
        "id": "QV1LZrX-V_DW",
        "outputId": "fd83b9d2-69c4-457c-86aa-93329889e749"
      },
      "execution_count": 12,
      "outputs": [
        {
          "output_type": "execute_result",
          "data": {
            "text/plain": [
              "match_id                 0\n",
              "inning                   0\n",
              "overs                    0\n",
              "ball                     0\n",
              "batsman                  0\n",
              "non_striker              0\n",
              "bowler                   0\n",
              "batsman_runs             0\n",
              "extra_runs               0\n",
              "total_runs               0\n",
              "non_boundary             0\n",
              "is_wicket                0\n",
              "dismissal_kind      183973\n",
              "player_dismissed    183973\n",
              "fielder             186684\n",
              "extras_type         183235\n",
              "batting_team             0\n",
              "bowling_team           191\n",
              "dtype: int64"
            ]
          },
          "metadata": {},
          "execution_count": 12
        }
      ]
    },
    {
      "cell_type": "code",
      "source": [
        "# Creating a database named as information.db and at the\n",
        "# same time extablishing a connection to the data base.\n",
        "# Uploading the data that have been loaded through the pandas\n",
        "# into the database info.db and later this database will be\n",
        "# analysed using spark.\n",
        "\n",
        "try:\n",
        "  # Creating and connecting database\n",
        "  connection = sqlite3.connect(\"information.db\")\n",
        "\n",
        "  # Loading the dataset into sql database\n",
        "  ipl_matches_pd.to_sql(\"ipl_matches\", connection, if_exists = 'replace', index = False)\n",
        "  ipl_venue_pd.to_sql(\"ipl_venue\", connection, if_exists = 'replace', index = False)\n",
        "  ipl_ball_by_ball_pd.to_sql(\"ipl_ball_by_ball\", connection, if_exists = 'replace', index = False)\n",
        "\n",
        "  # Connecting PySpark with the sqllite database.\n",
        "\n",
        "  ipl_matches = spark.read.format(\"jdbc\").option(\"url\", \"jdbc:sqlite:information.db\")\\\n",
        "                  .option(\"dbtable\", \"ipl_matches\")\\\n",
        "                  .option(\"driver\",\"org.sqlite.JDBC\")\\\n",
        "                  .option(\"user\", \"gs\")\\\n",
        "                  .option(\"password\", \"passkey\")\\\n",
        "                  .load()\n",
        "\n",
        "  ipl_venue = spark.read.format(\"jdbc\").option(\"url\", \"jdbc:sqlite:information.db\")\\\n",
        "                      .option(\"dbtable\", \"ipl_venue\")\\\n",
        "                      .option(\"driver\",\"org.sqlite.JDBC\")\\\n",
        "                      .option(\"user\", \"gs\")\\\n",
        "                      .option(\"password\", \"passkey\")\\\n",
        "                      .load()\n",
        "\n",
        "  ipl_ball_by_ball = spark.read.format(\"jdbc\").option(\"url\", \"jdbc:sqlite:information.db\")\\\n",
        "                      .option(\"dbtable\", \"ipl_ball_by_ball\")\\\n",
        "                      .option(\"driver\",\"org.sqlite.JDBC\")\\\n",
        "                      .option(\"user\", \"gs\")\\\n",
        "                      .option(\"password\", \"passkey\")\\\n",
        "                      .load()\n",
        "\n",
        "  # creating view instances of each table\n",
        "\n",
        "  ipl_matches.createOrReplaceTempView(\"ipl_matches_view\")\n",
        "  ipl_venue.createOrReplaceTempView(\"ipl_venue_view\")\n",
        "  ipl_ball_by_ball.createOrReplaceTempView(\"ipl_ball_by_ball_view\")\n",
        "\n",
        "except:\n",
        "  print(\"Error: Error generated in try space. Make sure that name of the \\\n",
        "  database file is correct, or make sure that the SQLite JDBC driver is available.\")"
      ],
      "metadata": {
        "id": "7bcfQRxQpCJY"
      },
      "execution_count": 13,
      "outputs": []
    },
    {
      "cell_type": "code",
      "source": [
        "def player_of_the_match_awards():\n",
        "  \"\"\" A query to return a report for the cricketers with the most number\n",
        "  of players of the match award\"\"\"\n",
        "\n",
        "  ipl_man_of_the_matches = spark.sql(\"\\\n",
        "  SELECT player_of_match, COUNT(player_of_match) AS num_man_of_the_matches\\\n",
        "  FROM ipl_matches_view\\\n",
        "  GROUP BY player_of_match\\\n",
        "  ORDER BY num_man_of_the_matches DESC\\\n",
        "  LIMIT 10\")\n",
        "\n",
        "  show_result(ipl_man_of_the_matches)"
      ],
      "metadata": {
        "id": "uHn6G4ZTpnit"
      },
      "execution_count": 14,
      "outputs": []
    },
    {
      "cell_type": "code",
      "source": [
        "def catches_per_player():\n",
        "  \"\"\"Most number of catches taken by a player in IPL\"\"\"\n",
        "\n",
        "  fielders = spark.sql(\"\\\n",
        "    SELECT match_id, fielder\\\n",
        "    FROM ipl_ball_by_ball_view\\\n",
        "    WHERE dismissal_kind == 'caught'\")\n",
        "\n",
        "  fielders = fielders.groupBy('fielder')\\\n",
        "  .agg({'fielder': 'count'})\\\n",
        "  .toDF('fielder', 'num_of_catches')\n",
        "\n",
        "  fielders.createOrReplaceTempView(\"num_of_catches\")\n",
        "\n",
        "  num_of_catches = spark.sql(\"\\\n",
        "    SELECT * FROM num_of_catches\\\n",
        "    ORDER BY num_of_catches DESC\\\n",
        "    LIMIT 10\")\n",
        "\n",
        "  show_result(num_of_catches)"
      ],
      "metadata": {
        "id": "Eojw9cxPpnru"
      },
      "execution_count": 15,
      "outputs": []
    },
    {
      "cell_type": "code",
      "source": [
        "def venues_and_matches():\n",
        "  \"\"\"Top 10 venues which hosted the most number of matches.\"\"\"\n",
        "\n",
        "  venue_id = spark.sql(\"\\\n",
        "    SELECT venue_id FROM ipl_matches_view\")\n",
        "\n",
        "  venue_view = spark.sql(\"SELECT * FROM ipl_venue_view\")\n",
        "\n",
        "  # inner joining the relation table venue with venue_id\n",
        "  inner_joining = venue_id\\\n",
        "  .join(venue_view, venue_id.venue_id == venue_view.venue_id,\"inner\")\\\n",
        "  .drop(venue_view.venue_id)\n",
        "\n",
        "  print(\"Inner Joining ipl_matches and ipl_venue\")\n",
        "  show_result(inner_joining)\n",
        "\n",
        "  inner_joining.createOrReplaceTempView(\"stadium_as_venue\")\n",
        "\n",
        "  stadium_as_venue = spark.sql(\"\\\n",
        "    SELECT venue, COUNT(venue) AS num_of_matches\\\n",
        "    FROM stadium_as_venue\\\n",
        "    GROUP BY venue\\\n",
        "    ORDER BY num_of_matches desc\\\n",
        "    LIMIT 10\")\n",
        "\n",
        "  print(\"Stadium as a venue.\")\n",
        "  show_result(stadium_as_venue)\n",
        "\n",
        "  num_of_matches_per_city = spark.sql(\"\\\n",
        "    SELECT city, COUNT(city) AS num_of_matches\\\n",
        "    FROM stadium_as_venue\\\n",
        "    GROUP BY city\\\n",
        "    ORDER BY num_of_matches desc\\\n",
        "    LIMIT 10\")\n",
        "\n",
        "  num_of_matches_per_city.createOrReplaceTempView(\"cities_as_venue\")\n",
        "  city_as_venue = spark.sql(\"\\\n",
        "    SELECT city, num_of_matches FROM cities_as_venue\\\n",
        "    ORDER BY num_of_matches desc\\\n",
        "    LIMIT 10\")\n",
        "\n",
        "  print(\"City as a venue.\")\n",
        "  show_result(city_as_venue)"
      ],
      "metadata": {
        "id": "ZV-ReCZ9pnwH"
      },
      "execution_count": 16,
      "outputs": []
    },
    {
      "cell_type": "code",
      "source": [
        "def wickets_through_dl_method():\n",
        "  \"\"\"query to return a report for highest wicket taker in matches \n",
        "  which were affected by Duckworth-Lewis’s method (D/L method).\"\"\"\n",
        "\n",
        "  dl_matches_id = spark.sql(\"\\\n",
        "    select match_id FROM ipl_matches_view\\\n",
        "    WHERE method = 'D/L'\")\n",
        "\n",
        "  ipl_most_wickets = spark.sql(\"\\\n",
        "    SELECT match_id, bowler, is_wicket\\\n",
        "    FROM ipl_ball_by_ball_view\\\n",
        "    WHERE is_wicket == 1\")\n",
        "\n",
        "  # Inner joinning matches that are effected by D/L and \n",
        "  max_wickets = dl_matches_id\\\n",
        "  .join(ipl_most_wickets, dl_matches_id.match_id == ipl_most_wickets.match_id,\"inner\")\\\n",
        "  .drop(ipl_most_wickets.match_id)\n",
        "\n",
        "  max_wickets = max_wickets.groupBy('bowler').agg({'bowler': 'count'})\\\n",
        "  .toDF('bowler', 'num_of_wickets')\n",
        "\n",
        "  max_wickets.createOrReplaceTempView(\"max_wickets\")\n",
        "  max_wickets = spark.sql(\"\\\n",
        "  select * from max_wickets\\\n",
        "  ORDER BY num_of_wickets DESC LIMIT 10\")\n",
        "\n",
        "  show_result(max_wickets)"
      ],
      "metadata": {
        "id": "prqbNwaTpn1-"
      },
      "execution_count": 17,
      "outputs": []
    },
    {
      "cell_type": "code",
      "source": [
        "def strike_rate_in_non_powerplay_overs():\n",
        "  \"\"\" A query to return a report for highest strike rate by \n",
        "  the batsmans in non powerplay overs(7-20 overs)\"\"\"\n",
        "\n",
        "  ipl_strike_rate = spark.sql(\"\\\n",
        "  SELECT batsman, COUNT(batsman) AS total_balls, SUM(batsman_runs) AS batsman_runs\\\n",
        "  FROM ipl_ball_by_ball_view\\\n",
        "  WHERE overs BETWEEN 7 AND 20\\\n",
        "  GROUP BY batsman\")\n",
        "\n",
        "  ipl_strike_rate.createOrReplaceTempView(\"ipl_strike_rate\")\n",
        "  ipl_strike_rate = spark.sql(\"\\\n",
        "  SELECT batsman, CAST(((batsman_runs / total_balls) * 100) AS decimal(16, 2)) \\\n",
        "  AS strike_rate FROM ipl_strike_rate\\\n",
        "  ORDER BY strike_rate DESC\\\n",
        "  LIMIT 10\")\n",
        "  show_result(ipl_strike_rate)"
      ],
      "metadata": {
        "id": "TmmWbbaZpoBT"
      },
      "execution_count": 18,
      "outputs": []
    },
    {
      "cell_type": "code",
      "source": [
        "def highest_batting_average():\n",
        "  \"\"\"A query to get a list of top 10 players with the highest batting average.\"\"\"\n",
        "\n",
        "  batting_player = spark.sql(\"\\\n",
        "    SELECT batsman, count(batsman) as num_of_times_out\\\n",
        "    FROM ipl_ball_by_ball_view\\\n",
        "    WHERE batsman == player_dismissed\\\n",
        "    GROUP BY batsman\")\n",
        "\n",
        "  non_strike_player = spark.sql(\"\\\n",
        "    SELECT non_striker, count(non_striker) AS num_of_run_outs\\\n",
        "    FROM ipl_ball_by_ball_view\\\n",
        "    WHERE non_striker == player_dismissed\\\n",
        "    GROUP by non_striker\")\n",
        "\n",
        "  num_of_outs_per_player = batting_player.union(non_strike_player)\n",
        "\n",
        "  num_of_outs_per_player.createOrReplaceTempView(\"num_of_outs\")\n",
        "  num_of_outs_per_player = spark.sql(\"\\\n",
        "    SELECT batsman, SUM(num_of_times_out) AS num_of_times_out\\\n",
        "    FROM num_of_outs\\\n",
        "    GROUP BY batsman\")\n",
        "\n",
        "  players_total_score = spark.sql(\"\\\n",
        "    SELECT batsman, sum(batsman_runs) AS runs\\\n",
        "    FROM ipl_ball_by_ball_view\\\n",
        "    GROUP BY batsman\")\n",
        "\n",
        "  players_total_score = players_total_score\\\n",
        "  .join(num_of_outs_per_player, players_total_score.batsman\\\n",
        "        == num_of_outs_per_player.batsman,\"inner\").drop(num_of_outs_per_player.batsman)\n",
        "\n",
        "  players_total_score.createOrReplaceTempView(\"players_total_score\")\n",
        "  players_total_score = spark.sql(\"\\\n",
        "    SELECT batsman, CAST((runs / num_of_times_out) AS decimal(16, 2)) AS batting_average\\\n",
        "    FROM players_total_score\\\n",
        "    ORDER BY batting_average DESC\\\n",
        "    LIMIT 10\")\n",
        "\n",
        "  show_result(players_total_score)"
      ],
      "metadata": {
        "id": "8hlt7aAmqoun"
      },
      "execution_count": 19,
      "outputs": []
    },
    {
      "cell_type": "code",
      "source": [
        "def umpires_in_matches(get_ipl_matches):\n",
        "  \"\"\"a query to find out the number of apperances of umpires in IPL matches.\"\"\"\n",
        "\n",
        "  umpire1 = get_ipl_matches.select('umpire1')\n",
        "  umpire2 = get_ipl_matches.select('umpire2')\n",
        "\n",
        "  umpires = umpire1.union(umpire2)\n",
        "  umpires.createOrReplaceTempView(\"all_umpires\")\n",
        "\n",
        "  umpires = spark.sql(\"\\\n",
        "  SELECT umpire1 AS umpires, COUNT(umpire1) AS num_of_matches\\\n",
        "  FROM all_umpires\\\n",
        "  GROUP BY umpire1\\\n",
        "  ORDER BY num_of_matches DESC\\\n",
        "  LIMIT 10\")\n",
        "\n",
        "  show_result(umpires)"
      ],
      "metadata": {
        "id": "0zCvvi41n8R-"
      },
      "execution_count": 20,
      "outputs": []
    },
    {
      "cell_type": "code",
      "source": [
        "def show_result(getInput):\n",
        "  # Used to show the output of each function.\n",
        "  getInput.show()"
      ],
      "metadata": {
        "id": "X4QfGARjlIJU"
      },
      "execution_count": 21,
      "outputs": []
    },
    {
      "cell_type": "code",
      "source": [
        "# Number of catches per player\n",
        "catches_per_player()"
      ],
      "metadata": {
        "colab": {
          "base_uri": "https://localhost:8080/"
        },
        "id": "Ak8Td9UBmiTk",
        "outputId": "b6927eb8-4e59-449f-fc97-6071b1c6ef72"
      },
      "execution_count": 22,
      "outputs": [
        {
          "output_type": "stream",
          "name": "stdout",
          "text": [
            "+--------------+--------------+\n",
            "|       fielder|num_of_catches|\n",
            "+--------------+--------------+\n",
            "|    KD Karthik|           118|\n",
            "|      MS Dhoni|           113|\n",
            "|AB de Villiers|           103|\n",
            "|      SK Raina|            99|\n",
            "|     RG Sharma|            88|\n",
            "|    RV Uthappa|            87|\n",
            "|    KA Pollard|            84|\n",
            "|       V Kohli|            76|\n",
            "|      S Dhawan|            73|\n",
            "|     MK Pandey|            70|\n",
            "+--------------+--------------+\n",
            "\n"
          ]
        }
      ]
    },
    {
      "cell_type": "code",
      "source": [
        "# Top 10 strike rate of the batsman.\n",
        "strike_rate_in_non_powerplay_overs()"
      ],
      "metadata": {
        "colab": {
          "base_uri": "https://localhost:8080/"
        },
        "id": "a-qzHo_8miXs",
        "outputId": "07a0b6d9-efe9-442b-f2da-e999c3409de3"
      },
      "execution_count": 23,
      "outputs": [
        {
          "output_type": "stream",
          "name": "stdout",
          "text": [
            "+------------+-----------+\n",
            "|     batsman|strike_rate|\n",
            "+------------+-----------+\n",
            "|  B Stanlake|     250.00|\n",
            "|Kamran Akmal|     213.89|\n",
            "|  ER Dwivedi|     211.11|\n",
            "|    Umar Gul|     205.26|\n",
            "|    RS Sodhi|     200.00|\n",
            "| AC Blizzard|     200.00|\n",
            "|   DJM Short|     187.10|\n",
            "|   LJ Wright|     183.02|\n",
            "|    W Jaffer|     180.77|\n",
            "|Vishnu Vinod|     180.00|\n",
            "+------------+-----------+\n",
            "\n"
          ]
        }
      ]
    },
    {
      "cell_type": "code",
      "source": [
        "# Highest batting average\n",
        "highest_batting_average()"
      ],
      "metadata": {
        "colab": {
          "base_uri": "https://localhost:8080/"
        },
        "id": "txE3cwdnmikx",
        "outputId": "b8385767-ebc7-4577-8260-06a329654111"
      },
      "execution_count": 24,
      "outputs": [
        {
          "output_type": "stream",
          "name": "stdout",
          "text": [
            "+-------------+---------------+\n",
            "|      batsman|batting_average|\n",
            "+-------------+---------------+\n",
            "|   MN van Wyk|          55.67|\n",
            "|   RD Gaikwad|          51.00|\n",
            "|     AC Voges|          45.25|\n",
            "|     KL Rahul|          44.86|\n",
            "|      HM Amla|          44.38|\n",
            "|Iqbal Abdulla|          44.00|\n",
            "|    DA Warner|          42.72|\n",
            "|  JM Bairstow|          41.58|\n",
            "|     CH Gayle|          41.14|\n",
            "|     MS Dhoni|          40.99|\n",
            "+-------------+---------------+\n",
            "\n"
          ]
        }
      ]
    },
    {
      "cell_type": "code",
      "source": [
        "# Number of matches per venue.\n",
        "venues_and_matches()"
      ],
      "metadata": {
        "colab": {
          "base_uri": "https://localhost:8080/"
        },
        "id": "wMCqOE63eYcp",
        "outputId": "63e5deb3-84c2-43d3-a960-c8ef1fe1f6ff"
      },
      "execution_count": 25,
      "outputs": [
        {
          "output_type": "stream",
          "name": "stdout",
          "text": [
            "Inner Joining ipl_matches and ipl_venue\n",
            "+--------+--------------------+-------------+\n",
            "|venue_id|               venue|         city|\n",
            "+--------+--------------------+-------------+\n",
            "|       1|Dr. Y.S. Rajasekh...|Visakhapatnam|\n",
            "|       1|Dr. Y.S. Rajasekh...|Visakhapatnam|\n",
            "|       1|Dr. Y.S. Rajasekh...|Visakhapatnam|\n",
            "|       1|Dr. Y.S. Rajasekh...|Visakhapatnam|\n",
            "|       1|Dr. Y.S. Rajasekh...|Visakhapatnam|\n",
            "|       1|Dr. Y.S. Rajasekh...|Visakhapatnam|\n",
            "|       1|Dr. Y.S. Rajasekh...|Visakhapatnam|\n",
            "|       1|Dr. Y.S. Rajasekh...|Visakhapatnam|\n",
            "|       1|Dr. Y.S. Rajasekh...|Visakhapatnam|\n",
            "|       1|Dr. Y.S. Rajasekh...|Visakhapatnam|\n",
            "|       1|Dr. Y.S. Rajasekh...|Visakhapatnam|\n",
            "|       1|Dr. Y.S. Rajasekh...|Visakhapatnam|\n",
            "|       1|Dr. Y.S. Rajasekh...|Visakhapatnam|\n",
            "|       2|Sharjah Cricket S...|      Sharjah|\n",
            "|       2|Sharjah Cricket S...|      Sharjah|\n",
            "|       2|Sharjah Cricket S...|      Sharjah|\n",
            "|       2|Sharjah Cricket S...|      Sharjah|\n",
            "|       2|Sharjah Cricket S...|      Sharjah|\n",
            "|       2|Sharjah Cricket S...|      Sharjah|\n",
            "|       2|Sharjah Cricket S...|      Sharjah|\n",
            "+--------+--------------------+-------------+\n",
            "only showing top 20 rows\n",
            "\n",
            "Stadium as a venue.\n",
            "+--------------------+--------------+\n",
            "|               venue|num_of_matches|\n",
            "+--------------------+--------------+\n",
            "|M.Chinnaswamy Sta...|            80|\n",
            "|        Eden Gardens|            77|\n",
            "|    Feroz Shah Kotla|            74|\n",
            "|    Wankhede Stadium|            73|\n",
            "|Rajiv Gandhi Inte...|            64|\n",
            "|MA Chidambaram St...|            57|\n",
            "|Sawai Mansingh St...|            47|\n",
            "|Punjab Cricket As...|            35|\n",
            "|Dubai Internation...|            33|\n",
            "|Sheikh Zayed Stadium|            29|\n",
            "+--------------------+--------------+\n",
            "\n",
            "City as a venue.\n",
            "+----------+--------------+\n",
            "|      city|num_of_matches|\n",
            "+----------+--------------+\n",
            "|    Mumbai|           101|\n",
            "| Bengaluru|            80|\n",
            "|   Kolkata|            77|\n",
            "|     Delhi|            74|\n",
            "| Hyderabad|            64|\n",
            "|   Chennai|            57|\n",
            "|Chandigarh|            56|\n",
            "|    Jaipur|            47|\n",
            "|      Pune|            38|\n",
            "|     Dubai|            33|\n",
            "+----------+--------------+\n",
            "\n"
          ]
        }
      ]
    },
    {
      "cell_type": "code",
      "source": [
        "# Number of wickets per bowler\n",
        "wickets_through_dl_method()"
      ],
      "metadata": {
        "colab": {
          "base_uri": "https://localhost:8080/"
        },
        "id": "emBjMfkndXAX",
        "outputId": "efdafe1a-789b-41a2-b2fc-61c500679a5c"
      },
      "execution_count": 26,
      "outputs": [
        {
          "output_type": "stream",
          "name": "stdout",
          "text": [
            "+------------+--------------+\n",
            "|      bowler|num_of_wickets|\n",
            "+------------+--------------+\n",
            "|    R Ashwin|             8|\n",
            "|    AB Dinda|             8|\n",
            "|MC Henriques|             7|\n",
            "|     B Kumar|             6|\n",
            "|  JD Unadkat|             5|\n",
            "|    L Balaji|             5|\n",
            "|    TA Boult|             5|\n",
            "|  DL Vettori|             5|\n",
            "|   YS Chahal|             4|\n",
            "|     M Ntini|             4|\n",
            "+------------+--------------+\n",
            "\n"
          ]
        }
      ]
    },
    {
      "cell_type": "code",
      "source": [
        "# Player of the match awards per player\n",
        "player_of_the_match_awards()"
      ],
      "metadata": {
        "colab": {
          "base_uri": "https://localhost:8080/"
        },
        "id": "hWbKCXZ9geE7",
        "outputId": "f14bd351-4d19-4cfc-b247-628e8cc75842"
      },
      "execution_count": 27,
      "outputs": [
        {
          "output_type": "stream",
          "name": "stdout",
          "text": [
            "+---------------+----------------------+\n",
            "|player_of_match|num_man_of_the_matches|\n",
            "+---------------+----------------------+\n",
            "| AB de Villiers|                    23|\n",
            "|       CH Gayle|                    22|\n",
            "|      RG Sharma|                    18|\n",
            "|      DA Warner|                    17|\n",
            "|       MS Dhoni|                    17|\n",
            "|      YK Pathan|                    16|\n",
            "|      SR Watson|                    16|\n",
            "|       SK Raina|                    14|\n",
            "|      G Gambhir|                    13|\n",
            "|        V Kohli|                    13|\n",
            "+---------------+----------------------+\n",
            "\n"
          ]
        }
      ]
    },
    {
      "cell_type": "code",
      "source": [
        "# Most number of umpires participate in the matches.\n",
        "umpires_in_matches(ipl_matches)"
      ],
      "metadata": {
        "colab": {
          "base_uri": "https://localhost:8080/"
        },
        "id": "Sf0oaB0XgpLJ",
        "outputId": "ed0d893b-dc2e-43f3-f33a-b423a3e65de4"
      },
      "execution_count": 28,
      "outputs": [
        {
          "output_type": "stream",
          "name": "stdout",
          "text": [
            "+---------------+--------------+\n",
            "|        umpires|num_of_matches|\n",
            "+---------------+--------------+\n",
            "|         S Ravi|           121|\n",
            "|HDPK Dharmasena|            94|\n",
            "|   AK Chaudhary|            87|\n",
            "|  C Shamshuddin|            82|\n",
            "|      M Erasmus|            65|\n",
            "|      CK Nandan|            57|\n",
            "|    Nitin Menon|            57|\n",
            "|     SJA Taufel|            55|\n",
            "|      Asad Rauf|            51|\n",
            "|    VA Kulkarni|            50|\n",
            "+---------------+--------------+\n",
            "\n"
          ]
        }
      ]
    },
    {
      "cell_type": "code",
      "source": [
        "# Save (commit) the changes\n",
        "# connection.commit()\n",
        "\n",
        "# After this PySpark will be disconneted from SQLite database.\n",
        "connection.close()"
      ],
      "metadata": {
        "id": "U46zoigduud_"
      },
      "execution_count": 29,
      "outputs": []
    }
  ]
}
